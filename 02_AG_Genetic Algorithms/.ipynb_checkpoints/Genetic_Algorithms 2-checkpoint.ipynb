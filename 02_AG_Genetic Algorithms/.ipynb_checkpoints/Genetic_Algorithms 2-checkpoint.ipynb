{
 "cells": [
  {
   "cell_type": "code",
   "execution_count": null,
   "metadata": {},
   "outputs": [],
   "source": [
    "import pandas as pd\n",
    "import numpy as np\n",
    "from sklearn import preprocessing\n",
    "from sklearn.model_selection import train_test_split\n",
    "from sklearn.linear_model import LinearRegression\n",
    "import math"
   ]
  },
  {
   "cell_type": "markdown",
   "metadata": {},
   "source": [
    "<h1>1. Preprocesamiento</h1>"
   ]
  },
  {
   "cell_type": "markdown",
   "metadata": {},
   "source": [
    "<h2>1.1 Normalización</h2>"
   ]
  },
  {
   "cell_type": "code",
   "execution_count": null,
   "metadata": {},
   "outputs": [],
   "source": [
    "pd.set_option('display.max_columns', None)"
   ]
  },
  {
   "cell_type": "code",
   "execution_count": null,
   "metadata": {},
   "outputs": [],
   "source": [
    "df_0 = pd.read_csv('Data\\Concrete_Data_Yeh.csv')\n",
    "\n",
    "df_p = preprocessing.normalize(df_0, axis=0)\n",
    "df = pd.DataFrame(df_p, columns=df_0.columns)\n",
    "df.describe()"
   ]
  },
  {
   "cell_type": "markdown",
   "metadata": {},
   "source": [
    "<h2>1.2 Selección de variables</h2>"
   ]
  },
  {
   "cell_type": "markdown",
   "metadata": {},
   "source": [
    "<h3>1.2.1 Generación de nuevas variables</h3>"
   ]
  },
  {
   "cell_type": "code",
   "execution_count": null,
   "metadata": {},
   "outputs": [],
   "source": [
    "## Generación de realciones\n",
    "\n",
    "columnas = list(df.drop(columns=['csMPa']).columns)\n",
    "for i in columnas:\n",
    "    columnas_2 = [x for x in columnas if x not in i]\n",
    "    for j in columnas_2:\n",
    "        nombre_columna = i + '-' + j\n",
    "        df[nombre_columna] = df[i] / df[j]\n",
    "\n",
    "## Dejar varibales con valores no indeterminados\n",
    "\n",
    "df = df[list(df.describe().replace([np.inf, -np.inf], np.nan).iloc[-1].dropna().index)]\n",
    "\n",
    "## Generación de Exponenciales\n",
    "\n",
    "columnas = list(df.drop(columns=['csMPa']).columns)\n",
    "\n",
    "for i in columnas:\n",
    "    nombre_columna = 'exp_' + i\n",
    "    df[nombre_columna] = df[i].apply(lambda x: math.exp(x))"
   ]
  },
  {
   "cell_type": "markdown",
   "metadata": {},
   "source": [
    "<h3>1.2.2 Selección por GA con AIC</h3>"
   ]
  },
  {
   "cell_type": "code",
   "execution_count": null,
   "metadata": {},
   "outputs": [],
   "source": [
    "## Definición funcion a optimizar\n",
    "\n",
    "def aic_criterion(df):\n",
    "    n_var = len(df.drop(columns=['residuos'\n",
    "                                 , 'csMPa'\n",
    "                                 , 'csMPa_est']).columns)\n",
    "    \n",
    "    n = len(df)\n",
    "    \n",
    "    res = sum(df['residuos'].apply(lambda x: x ** 2))\n",
    "    \n",
    "    return((n * (math.log(2 * math.pi) + 1 + math.log(res / (n - n_var - 1)))) + ((n_var + 1) * 2))"
   ]
  },
  {
   "cell_type": "code",
   "execution_count": null,
   "metadata": {
    "scrolled": true
   },
   "outputs": [],
   "source": [
    "## Generar población inicial aleatoria\n",
    "\n",
    "np.random.seed(1984)\n",
    "\n",
    "explicativas = list(df.drop(columns=['csMPa']).columns)\n",
    "df_explicativas = pd.DataFrame(np.random.randint(2,size=(500, len(explicativas))), columns=explicativas)\n",
    "df_explicativas['aic'] = 200000\n",
    "\n",
    "y = df['csMPa']\n",
    "aic_col = pd.Series([])\n",
    "\n",
    "for i in range(len(df_explicativas)):\n",
    "    X = df[list(df_explicativas.iloc[i][df_explicativas.iloc[i] == 1].index)]\n",
    "    X_val, X_other, y_val, y_other = train_test_split(X, y, test_size=0.80, random_state=42, shuffle=False)\n",
    "    X_train, X_test, y_train, y_test = train_test_split(X_other, y_other, test_size=0.40, shuffle=False)\n",
    "\n",
    "    del X_other\n",
    "    del y_other\n",
    "    \n",
    "    reg = LinearRegression().fit(X_train, y_train)\n",
    "    y_val_est = pd.Series(reg.predict(X_val))\n",
    "    \n",
    "    df_val = pd.concat([X_val, y_val,y_val_est], axis=1).rename(columns={0 : 'csMPa_est'})\n",
    "    df_val['residuos'] = df_val['csMPa'] - df_val['csMPa_est']\n",
    "    \n",
    "    df_explicativas['aic'].iloc[i] = aic_criterion(df_val)"
   ]
  },
  {
   "cell_type": "code",
   "execution_count": null,
   "metadata": {},
   "outputs": [],
   "source": [
    "## Generar operadores de cruce y mutacion\n",
    "\n",
    "def cruce(cromosoma_0, cromosoma_1, tipo_cruce):\n",
    "    \n",
    "    rng = np.random.default_rng()\n",
    "    largo_cromosoma = len(cromosoma_0)\n",
    "    rango_cromosoma = range(largo_cromosoma)\n",
    "    \n",
    "    if tipo_cruce == 'punto unico':\n",
    "        \n",
    "        punto = rng.choice(rango_cromosoma, size=1, replace=False)[0]\n",
    "        \n",
    "        descendencia_0 = np.concatenate((cromosoma_0[:punto], cromosoma_1[punto:]), axis = 0)\n",
    "        descendencia_1 = np.concatenate((cromosoma_1[:punto], cromosoma_0[punto:]), axis = 0)\n",
    "        \n",
    "        return(descendencia_0, descendencia_1)\n",
    "    \n",
    "    elif tipo_cruce == 'dos puntos':\n",
    "        \n",
    "        puntos = rng.choice(rango_cromosoma, size=2, replace=False)\n",
    "        punto_0 = min(puntos[0], puntos[1])\n",
    "        punto_1 = max(puntos[0], puntos[1])\n",
    "        \n",
    "        descendencia_0 = np.concatenate((cromosoma_0[:punto_0]\n",
    "                                         , cromosoma_1[punto_0:punto_1]\n",
    "                                         , cromosoma_0[punto_1:]), axis = 0)\n",
    "        descendencia_1 = np.concatenate((cromosoma_1[:punto_0]\n",
    "                                         , cromosoma_0[punto_0:punto_1]\n",
    "                                         , cromosoma_1[punto_1:]), axis = 0)\n",
    "        \n",
    "        return(descendencia_0, descendencia_1)\n",
    "    \n",
    "    elif tipo_cruce == 'uniforme':\n",
    "\n",
    "        padre_0 = np.random.randint(2,size=(len(cromosoma_0), 1))\n",
    "        padre_1 = (padre_0 - 1) * (- 1)\n",
    "        \n",
    "        descendencia_0 = [(padre_0[i] * cromosoma_0[i])[0] + (padre_1[i] * cromosoma_1[i])[0] for i in range(len(cromosoma_0))]\n",
    "        descendencia_1 = [(padre_0[i] * cromosoma_1[i])[0] + (padre_1[i] * cromosoma_0[i])[0] for i in range(len(cromosoma_0))]\n",
    "        \n",
    "        return(descendencia_0, descendencia_1)\n",
    "\n",
    "    \n",
    "    \n",
    "def mutacion(cromosoma_0, tipo_dato):\n",
    "    \n",
    "    largo_cromosoma = len(cromosoma_0)\n",
    "    rango_cromosoma = range(largo_cromosoma)\n",
    "    \n",
    "    if tipo_dato == 'binario':\n",
    "        gen_mutacion = rng.choice(rango_cromosoma, size=1, replace=False)[0]\n",
    "        \n",
    "        if cromosoma_0[gen_mutacion] == 1:\n",
    "            nuevo_gen = 0\n",
    "        else:\n",
    "            nuevo_gen = 1\n",
    "        \n",
    "        cromosoma_0 = np.concatenate((cromosoma_0[:gen_mutacion]\n",
    "                                      ,np.array([nuevo_gen])\n",
    "                                      ,cromosoma_0[gen_mutacion+1:]), axis = 0)\n",
    "        return(cromosoma_0)"
   ]
  },
  {
   "cell_type": "code",
   "execution_count": null,
   "metadata": {},
   "outputs": [],
   "source": [
    "## Generar funciones de seleccion\n",
    "\n",
    "def seleccion(df, factor_seleccion, tipo_seleccion, tamano_elitismo):\n",
    "    \n",
    "    df['dummy'] = 0\n",
    "    df['seleccionado'] = 0\n",
    "    \n",
    "    if tipo_seleccion == 'ruleta':\n",
    "        if tamano_elitismo > 0:\n",
    "            \n",
    "            max_aic = max(df['aic'])\n",
    "            df['aic_escalado'] = (df['aic'] - max_aic - 1) * (-1)\n",
    "            \n",
    "            total_aic_esc = sum(df['aic_escalado'])\n",
    "            df['prob'] = df['aic_escalado'] / total_aic_esc\n",
    "            df['prob_acum'] = df.groupby(['dummy'])['prob'].cumsum()\n",
    "            df['prob_acum_lag'] = df['prob_acum'].shift(1).fillna(0)\n",
    "            \n",
    "            i = 0\n",
    "            \n",
    "            while (sum(df['seleccionado']) / len(df)) < factor_seleccion:\n",
    "                \n",
    "                rand = np.random.uniform(0, 1)\n",
    "                df['seleccionado'] =  df.apply(lambda x: 1 if x.prob_acum_lag < rand <= x.prob_acum else 0, axis = 1)\n",
    "                print(rand, sum(df['seleccionado']) / len(df))\n",
    "        else:\n",
    "            print('bad')\n",
    "    elif tipo_seleccion == 'torneo':\n",
    "        if tamano_elitismo > 0:\n",
    "            print('bad')\n",
    "        else:\n",
    "            print('bad')       \n",
    "\n",
    "    df = df.drop(columns=['dummy'])\n",
    "    \n",
    "    return(df)"
   ]
  }
 ],
 "metadata": {
  "kernelspec": {
   "display_name": "Python 3",
   "language": "python",
   "name": "python3"
  },
  "language_info": {
   "codemirror_mode": {
    "name": "ipython",
    "version": 3
   },
   "file_extension": ".py",
   "mimetype": "text/x-python",
   "name": "python",
   "nbconvert_exporter": "python",
   "pygments_lexer": "ipython3",
   "version": "3.7.7"
  }
 },
 "nbformat": 4,
 "nbformat_minor": 4
}
